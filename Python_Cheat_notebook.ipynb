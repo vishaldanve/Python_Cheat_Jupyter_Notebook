{
 "cells": [
  {
   "cell_type": "code",
   "execution_count": 1,
   "metadata": {
    "collapsed": true
   },
   "outputs": [],
   "source": [
    "# import is used to make specialty functions available\n",
    "\n",
    "# These are called modules\n",
    "\n",
    "import random\n",
    "\n",
    "import sys\n",
    "\n",
    "import os\n"
   ]
  },
  {
   "cell_type": "code",
   "execution_count": 2,
   "metadata": {},
   "outputs": [
    {
     "name": "stdout",
     "output_type": "stream",
     "text": [
      "Hello World\n"
     ]
    }
   ],
   "source": [
    "# Hello world is just one line of code\n",
    "\n",
    "# print() outputs data to the screen\n",
    "\n",
    "print(\"Hello World\")"
   ]
  },
  {
   "cell_type": "code",
   "execution_count": 3,
   "metadata": {},
   "outputs": [
    {
     "data": {
      "text/plain": [
       "'\\n\\nThis is a multi-line comment\\n\\n'"
      ]
     },
     "execution_count": 3,
     "metadata": {},
     "output_type": "execute_result"
    }
   ],
   "source": [
    "'''\n",
    "\n",
    "This is a multi-line comment\n",
    "\n",
    "'''"
   ]
  },
  {
   "cell_type": "code",
   "execution_count": 4,
   "metadata": {},
   "outputs": [
    {
     "name": "stdout",
     "output_type": "stream",
     "text": [
      "Vishal\n"
     ]
    }
   ],
   "source": [
    "# A variable is a place to store values\n",
    "\n",
    "# Its name is like a label for that value\n",
    "\n",
    "name = \"Vishal\"\n",
    "\n",
    "print(name)"
   ]
  },
  {
   "cell_type": "code",
   "execution_count": 5,
   "metadata": {},
   "outputs": [
    {
     "name": "stdout",
     "output_type": "stream",
     "text": [
      "15\n"
     ]
    }
   ],
   "source": [
    "# There are 5 data types Numbers, Strings, List, Tuple, Dictionary\n",
    "\n",
    "# You can store any of them in the same variable\n",
    "\n",
    "number = 15\n",
    "print(number)"
   ]
  },
  {
   "cell_type": "code",
   "execution_count": 6,
   "metadata": {},
   "outputs": [
    {
     "name": "stdout",
     "output_type": "stream",
     "text": [
      "5 + 2 = 7\n",
      "5 - 2 = 3\n",
      "5 * 2 = 10\n",
      "5 / 2 = 2.5\n",
      "5 % 2 = 1\n",
      "5 ** 2 = 25\n",
      "5 // 2 = 2\n"
     ]
    }
   ],
   "source": [
    "# The arithmetic operators +, -, *, /, %, **, //\n",
    "\n",
    "# ** Exponential calculation\n",
    "\n",
    "# // Floor Division\n",
    "\n",
    "print(\"5 + 2 =\", 5+2)\n",
    "\n",
    "print(\"5 - 2 =\", 5-2)\n",
    "\n",
    "print(\"5 * 2 =\", 5*2)\n",
    "\n",
    "print(\"5 / 2 =\", 5/2)\n",
    "\n",
    "print(\"5 % 2 =\", 5%2)\n",
    "\n",
    "print(\"5 ** 2 =\", 5**2)\n",
    "\n",
    "print(\"5 // 2 =\", 5//2)"
   ]
  },
  {
   "cell_type": "code",
   "execution_count": 7,
   "metadata": {},
   "outputs": [
    {
     "name": "stdout",
     "output_type": "stream",
     "text": [
      " 1 + 2 - 3 * 2 = -3\n",
      "( 1 + 2 - 3 ) * 2 = 0\n"
     ]
    }
   ],
   "source": [
    "\n",
    "## Order of Operation states * and / is performed before + and -\n",
    "\n",
    "print(\" 1 + 2 - 3 * 2 =\", 1 + 2 - 3 * 2)\n",
    "\n",
    "print(\"( 1 + 2 - 3 ) * 2 =\", ( 1 + 2 - 3 ) * 2 )"
   ]
  },
  {
   "cell_type": "code",
   "execution_count": 8,
   "metadata": {},
   "outputs": [
    {
     "data": {
      "text/plain": [
       "'\"Always remember you are unique,'"
      ]
     },
     "execution_count": 8,
     "metadata": {},
     "output_type": "execute_result"
    }
   ],
   "source": [
    "# A string is a string of characters surrounded by \" or '\n",
    "\n",
    "# If you must use a \" or ' between the same quote escape it with \\\n",
    "\n",
    "quote = \"\\\"Always remember you are unique,\"\n",
    "quote"
   ]
  },
  {
   "cell_type": "code",
   "execution_count": 9,
   "metadata": {
    "collapsed": true
   },
   "outputs": [],
   "source": [
    "# A multi-line quote\n",
    "\n",
    "multi_line_quote = ''' just\n",
    "\n",
    "like everyone else\" '''"
   ]
  },
  {
   "cell_type": "code",
   "execution_count": 10,
   "metadata": {},
   "outputs": [
    {
     "name": "stdout",
     "output_type": "stream",
     "text": [
      "\"Always remember you are unique, just\n",
      "\n",
      "like everyone else\" \n"
     ]
    }
   ],
   "source": [
    "print(quote + multi_line_quote)\n"
   ]
  },
  {
   "cell_type": "code",
   "execution_count": 11,
   "metadata": {},
   "outputs": [
    {
     "name": "stdout",
     "output_type": "stream",
     "text": [
      "I like the quote \"Always remember you are unique,  just\n",
      "\n",
      "like everyone else\" \n"
     ]
    }
   ],
   "source": [
    "# To embed a string in output use %s\n",
    "\n",
    "print(\"%s %s %s\" % ('I like the quote', quote, multi_line_quote))\n"
   ]
  },
  {
   "cell_type": "code",
   "execution_count": 12,
   "metadata": {},
   "outputs": [
    {
     "name": "stdout",
     "output_type": "stream",
     "text": [
      "I don't like newlines\n"
     ]
    }
   ],
   "source": [
    "# To keep from printing newlines use end=\"\"\n",
    "\n",
    "print(\"I don't like \",end=\"\")\n",
    "\n",
    "print(\"newlines\")"
   ]
  },
  {
   "cell_type": "code",
   "execution_count": 13,
   "metadata": {},
   "outputs": [
    {
     "name": "stdout",
     "output_type": "stream",
     "text": [
      "\n",
      "\n",
      "\n",
      "\n",
      "\n",
      "\n"
     ]
    }
   ],
   "source": [
    "# You can print a string multiple times with *\n",
    "\n",
    "print('\\n' * 5)"
   ]
  },
  {
   "cell_type": "code",
   "execution_count": 14,
   "metadata": {
    "collapsed": true
   },
   "outputs": [],
   "source": [
    "# LISTS -------------\n",
    "\n",
    "# A list allows you to create a list of values and manipulate them\n",
    "\n",
    "# Each value has an index with the first one starting at 0"
   ]
  },
  {
   "cell_type": "code",
   "execution_count": 15,
   "metadata": {},
   "outputs": [
    {
     "name": "stdout",
     "output_type": "stream",
     "text": [
      "The first item is Juice\n"
     ]
    }
   ],
   "source": [
    "grocery_list = ['Juice', 'Tomatoes', 'Potatoes', 'Bananas']\n",
    "\n",
    "print('The first item is', grocery_list[0])"
   ]
  },
  {
   "cell_type": "code",
   "execution_count": 16,
   "metadata": {},
   "outputs": [
    {
     "name": "stdout",
     "output_type": "stream",
     "text": [
      "['Green Juice', 'Tomatoes', 'Potatoes', 'Bananas']\n"
     ]
    }
   ],
   "source": [
    "# You can change the value stored in a list box\n",
    "\n",
    "grocery_list[0] = \"Green Juice\"\n",
    "\n",
    "print(grocery_list)"
   ]
  },
  {
   "cell_type": "code",
   "execution_count": 17,
   "metadata": {},
   "outputs": [
    {
     "name": "stdout",
     "output_type": "stream",
     "text": [
      "['Tomatoes', 'Potatoes']\n"
     ]
    }
   ],
   "source": [
    "# You can get a subset of the list with [min:up-to but not including max]\n",
    "\n",
    "\n",
    "print(grocery_list[1:3])"
   ]
  },
  {
   "cell_type": "code",
   "execution_count": 18,
   "metadata": {
    "collapsed": true
   },
   "outputs": [],
   "source": [
    "# You can put any data type in a a list including a list\n",
    "\n",
    "other_events = ['Wash Car', 'Pick up Kids', 'Cash Check']\n",
    "\n",
    "to_do_list = [other_events, grocery_list]"
   ]
  },
  {
   "cell_type": "code",
   "execution_count": 19,
   "metadata": {},
   "outputs": [
    {
     "name": "stdout",
     "output_type": "stream",
     "text": [
      "[['Wash Car', 'Pick up Kids', 'Cash Check'], ['Green Juice', 'Tomatoes', 'Potatoes', 'Bananas']]\n"
     ]
    }
   ],
   "source": [
    "print(to_do_list)"
   ]
  },
  {
   "cell_type": "code",
   "execution_count": 20,
   "metadata": {},
   "outputs": [
    {
     "name": "stdout",
     "output_type": "stream",
     "text": [
      "Tomatoes\n"
     ]
    }
   ],
   "source": [
    "# Get the second item in the second list (Boxes inside of boxes)\n",
    "\n",
    "print(to_do_list[1][1])"
   ]
  },
  {
   "cell_type": "code",
   "execution_count": 21,
   "metadata": {},
   "outputs": [
    {
     "name": "stdout",
     "output_type": "stream",
     "text": [
      "[['Wash Car', 'Pick up Kids', 'Cash Check'], ['Green Juice', 'Tomatoes', 'Potatoes', 'Bananas', 'onions']]\n"
     ]
    }
   ],
   "source": [
    "# You add values using append\n",
    "\n",
    "grocery_list.append('onions')\n",
    "\n",
    "print(to_do_list)"
   ]
  },
  {
   "cell_type": "code",
   "execution_count": 22,
   "metadata": {},
   "outputs": [
    {
     "data": {
      "text/plain": [
       "['Green Juice', 'Pickle', 'Tomatoes', 'Potatoes', 'Bananas', 'onions']"
      ]
     },
     "execution_count": 22,
     "metadata": {},
     "output_type": "execute_result"
    }
   ],
   "source": [
    "\n",
    "# Insert item at given index\n",
    "\n",
    "grocery_list.insert(1, \"Pickle\")\n",
    "\n",
    "grocery_list"
   ]
  },
  {
   "cell_type": "code",
   "execution_count": 23,
   "metadata": {},
   "outputs": [
    {
     "data": {
      "text/plain": [
       "['Green Juice', 'Tomatoes', 'Potatoes', 'Bananas', 'onions']"
      ]
     },
     "execution_count": 23,
     "metadata": {},
     "output_type": "execute_result"
    }
   ],
   "source": [
    "# Remove item from list\n",
    "\n",
    "grocery_list.remove(\"Pickle\")\n",
    "\n",
    "grocery_list\n"
   ]
  },
  {
   "cell_type": "code",
   "execution_count": 24,
   "metadata": {},
   "outputs": [
    {
     "data": {
      "text/plain": [
       "['Bananas', 'Green Juice', 'Potatoes', 'Tomatoes', 'onions']"
      ]
     },
     "execution_count": 24,
     "metadata": {},
     "output_type": "execute_result"
    }
   ],
   "source": [
    "# Sorts items in list\n",
    "\n",
    "grocery_list.sort()\n",
    "grocery_list\n"
   ]
  },
  {
   "cell_type": "code",
   "execution_count": 25,
   "metadata": {},
   "outputs": [
    {
     "data": {
      "text/plain": [
       "['onions', 'Tomatoes', 'Potatoes', 'Green Juice', 'Bananas']"
      ]
     },
     "execution_count": 25,
     "metadata": {},
     "output_type": "execute_result"
    }
   ],
   "source": [
    "# Reverse sort items in list\n",
    "\n",
    "grocery_list.reverse()\n",
    "\n",
    "grocery_list"
   ]
  },
  {
   "cell_type": "code",
   "execution_count": 26,
   "metadata": {},
   "outputs": [
    {
     "name": "stdout",
     "output_type": "stream",
     "text": [
      "[['Wash Car', 'Pick up Kids', 'Cash Check'], ['onions', 'Tomatoes', 'Potatoes', 'Green Juice']]\n"
     ]
    }
   ],
   "source": [
    "# del deletes an item at specified index\n",
    "\n",
    "del grocery_list[4]\n",
    "\n",
    "print(to_do_list)"
   ]
  },
  {
   "cell_type": "code",
   "execution_count": 27,
   "metadata": {},
   "outputs": [
    {
     "name": "stdout",
     "output_type": "stream",
     "text": [
      "['Wash Car', 'Pick up Kids', 'Cash Check', 'onions', 'Tomatoes', 'Potatoes', 'Green Juice']\n"
     ]
    }
   ],
   "source": [
    "# We can combine lists with a +\n",
    "\n",
    "to_do_list = other_events + grocery_list\n",
    "\n",
    "print(to_do_list)"
   ]
  },
  {
   "cell_type": "code",
   "execution_count": 28,
   "metadata": {},
   "outputs": [
    {
     "name": "stdout",
     "output_type": "stream",
     "text": [
      "7\n"
     ]
    }
   ],
   "source": [
    "\n",
    "# Get length of list\n",
    "\n",
    "print(len(to_do_list))"
   ]
  },
  {
   "cell_type": "code",
   "execution_count": 29,
   "metadata": {},
   "outputs": [
    {
     "name": "stdout",
     "output_type": "stream",
     "text": [
      "onions\n"
     ]
    }
   ],
   "source": [
    "# Get the max item in list\n",
    "\n",
    "print(max(to_do_list))"
   ]
  },
  {
   "cell_type": "code",
   "execution_count": 30,
   "metadata": {},
   "outputs": [
    {
     "name": "stdout",
     "output_type": "stream",
     "text": [
      "Cash Check\n"
     ]
    }
   ],
   "source": [
    "# Get the minimum item in list\n",
    "\n",
    "print(min(to_do_list))"
   ]
  },
  {
   "cell_type": "code",
   "execution_count": 31,
   "metadata": {},
   "outputs": [
    {
     "data": {
      "text/plain": [
       "(3, 1, 4, 1, 5, 9)"
      ]
     },
     "execution_count": 31,
     "metadata": {},
     "output_type": "execute_result"
    }
   ],
   "source": [
    "# TUPLES -------------\n",
    "\n",
    "# Values in a tuple can't change like lists\n",
    "\n",
    "\n",
    "\n",
    "pi_tuple = (3, 1, 4, 1, 5, 9)\n",
    "\n",
    "pi_tuple\n"
   ]
  },
  {
   "cell_type": "code",
   "execution_count": 32,
   "metadata": {},
   "outputs": [
    {
     "data": {
      "text/plain": [
       "[3, 1, 4, 1, 5, 9]"
      ]
     },
     "execution_count": 32,
     "metadata": {},
     "output_type": "execute_result"
    }
   ],
   "source": [
    "# Convert tuple into a list\n",
    "\n",
    "new_list = list(pi_tuple)\n",
    "\n",
    "new_list"
   ]
  },
  {
   "cell_type": "code",
   "execution_count": 33,
   "metadata": {},
   "outputs": [
    {
     "data": {
      "text/plain": [
       "('onions', 'Tomatoes', 'Potatoes', 'Green Juice')"
      ]
     },
     "execution_count": 33,
     "metadata": {},
     "output_type": "execute_result"
    }
   ],
   "source": [
    "# Convert a list into a tuple\n",
    "\n",
    "new_tuple = tuple(grocery_list)\n",
    "\n",
    "new_tuple"
   ]
  },
  {
   "cell_type": "code",
   "execution_count": 34,
   "metadata": {
    "collapsed": true
   },
   "outputs": [],
   "source": [
    "# tuples also have len(tuple), min(tuple) and max(tuple)"
   ]
  },
  {
   "cell_type": "code",
   "execution_count": 35,
   "metadata": {},
   "outputs": [
    {
     "name": "stdout",
     "output_type": "stream",
     "text": [
      "Leonard Snart\n"
     ]
    }
   ],
   "source": [
    "# DICTIONARY or MAP -------------\n",
    "# Made up of values with a unique key for each value\n",
    "# Similar to lists, but you can't join dicts with a +\n",
    "super_villains = {'Fiddler' : 'Isaac Bowin',\n",
    "                  'Captain Cold' : 'Leonard Snart',\n",
    "                  'Weather Wizard' : 'Mark Mardon',\n",
    "                  'Mirror Master' : 'Sam Scudder',\n",
    "                  'Pied Piper' : 'Thomas Peterson'}\n",
    "print(super_villains['Captain Cold'])"
   ]
  },
  {
   "cell_type": "code",
   "execution_count": 36,
   "metadata": {},
   "outputs": [
    {
     "name": "stdout",
     "output_type": "stream",
     "text": [
      "{'Captain Cold': 'Leonard Snart', 'Weather Wizard': 'Mark Mardon', 'Mirror Master': 'Sam Scudder', 'Pied Piper': 'Thomas Peterson'}\n"
     ]
    }
   ],
   "source": [
    "# Delete an entry\n",
    "\n",
    "del super_villains['Fiddler']\n",
    "\n",
    "print(super_villains)"
   ]
  },
  {
   "cell_type": "code",
   "execution_count": 37,
   "metadata": {},
   "outputs": [
    {
     "name": "stdout",
     "output_type": "stream",
     "text": [
      "{'Captain Cold': 'Leonard Snart', 'Weather Wizard': 'Mark Mardon', 'Mirror Master': 'Sam Scudder', 'Pied Piper': 'Hartley Rathaway'}\n"
     ]
    }
   ],
   "source": [
    "# Replace a value\n",
    "\n",
    "super_villains['Pied Piper'] = 'Hartley Rathaway'\n",
    "print(super_villains)"
   ]
  },
  {
   "cell_type": "code",
   "execution_count": 38,
   "metadata": {},
   "outputs": [
    {
     "name": "stdout",
     "output_type": "stream",
     "text": [
      "4\n"
     ]
    }
   ],
   "source": [
    "# Print the number of items in the dictionary\n",
    "\n",
    "print(len(super_villains))"
   ]
  },
  {
   "cell_type": "code",
   "execution_count": 39,
   "metadata": {},
   "outputs": [
    {
     "name": "stdout",
     "output_type": "stream",
     "text": [
      "Hartley Rathaway\n"
     ]
    }
   ],
   "source": [
    "# Get the value for the passed key\n",
    "\n",
    "print(super_villains.get(\"Pied Piper\"))"
   ]
  },
  {
   "cell_type": "code",
   "execution_count": 40,
   "metadata": {},
   "outputs": [
    {
     "name": "stdout",
     "output_type": "stream",
     "text": [
      "dict_keys(['Captain Cold', 'Weather Wizard', 'Mirror Master', 'Pied Piper'])\n"
     ]
    }
   ],
   "source": [
    "\n",
    "# Get a list of dictionary keys\n",
    "\n",
    "print(super_villains.keys())"
   ]
  },
  {
   "cell_type": "code",
   "execution_count": 41,
   "metadata": {},
   "outputs": [
    {
     "name": "stdout",
     "output_type": "stream",
     "text": [
      "dict_values(['Leonard Snart', 'Mark Mardon', 'Sam Scudder', 'Hartley Rathaway'])\n"
     ]
    }
   ],
   "source": [
    "# Get a list of dictionary values\n",
    "\n",
    "print(super_villains.values())"
   ]
  },
  {
   "cell_type": "code",
   "execution_count": 42,
   "metadata": {
    "collapsed": true
   },
   "outputs": [],
   "source": [
    "# CONDITIONALS -------------\n",
    "\n",
    "# The if, else and elif statements are used to perform different\n",
    "\n",
    "# actions based off of conditions\n",
    "\n",
    "# Comparison Operators : ==, !=, >, <, >=, <="
   ]
  },
  {
   "cell_type": "code",
   "execution_count": 43,
   "metadata": {
    "collapsed": true
   },
   "outputs": [],
   "source": [
    "# The if statement will execute code if a condition is met\n",
    "\n",
    "# White space is used to group blocks of code in Python\n",
    "\n",
    "# Use the same number of proceeding spaces for blocks of code"
   ]
  },
  {
   "cell_type": "code",
   "execution_count": 44,
   "metadata": {},
   "outputs": [
    {
     "name": "stdout",
     "output_type": "stream",
     "text": [
      "You are old enough to drive\n"
     ]
    }
   ],
   "source": [
    "age = 30\n",
    "\n",
    "if age > 16 :\n",
    "    print('You are old enough to drive')"
   ]
  },
  {
   "cell_type": "code",
   "execution_count": 45,
   "metadata": {
    "collapsed": true
   },
   "outputs": [],
   "source": [
    "# Use an if statement if you want to execute different code regardless\n",
    "\n",
    "# of whether the condition ws met or not"
   ]
  },
  {
   "cell_type": "code",
   "execution_count": 46,
   "metadata": {},
   "outputs": [
    {
     "name": "stdout",
     "output_type": "stream",
     "text": [
      "You are old enough to drive\n"
     ]
    }
   ],
   "source": [
    "if age > 16 :\n",
    "    print('You are old enough to drive')\n",
    "else :\n",
    "    print('You are not old enough to drive')"
   ]
  },
  {
   "cell_type": "code",
   "execution_count": 47,
   "metadata": {
    "collapsed": true
   },
   "outputs": [],
   "source": [
    "\n",
    "# If you want to check for multiple conditions use elif\n",
    "\n",
    "# If the first matches it won't check other conditions that follow"
   ]
  },
  {
   "cell_type": "code",
   "execution_count": 48,
   "metadata": {},
   "outputs": [
    {
     "name": "stdout",
     "output_type": "stream",
     "text": [
      "You are old enough to drive a tractor trailer\n"
     ]
    }
   ],
   "source": [
    "if age >= 21 :\n",
    "    print('You are old enough to drive a tractor trailer')\n",
    "elif age >= 16:\n",
    "    print('You are old enough to drive a car')\n",
    "else :\n",
    "    print('You are not old enough to drive')"
   ]
  },
  {
   "cell_type": "code",
   "execution_count": 49,
   "metadata": {
    "collapsed": true
   },
   "outputs": [],
   "source": [
    "# You can combine conditions with logical operators\n",
    "\n",
    "# Logical Operators : and, or, not"
   ]
  },
  {
   "cell_type": "code",
   "execution_count": 50,
   "metadata": {},
   "outputs": [
    {
     "name": "stdout",
     "output_type": "stream",
     "text": [
      "You get a birthday party yeah\n"
     ]
    }
   ],
   "source": [
    "if ((age >= 1) and (age <= 18)):\n",
    "    print(\"You get a birthday party\")\n",
    "elif (age == 21) or (age >= 65):\n",
    "    print(\"You get a birthday party\")\n",
    "elif not(age == 30):\n",
    "    print(\"You don't get a birthday party\")\n",
    "else:\n",
    "    print(\"You get a birthday party yeah\")"
   ]
  },
  {
   "cell_type": "code",
   "execution_count": 51,
   "metadata": {
    "collapsed": true
   },
   "outputs": [],
   "source": [
    "# FOR LOOPS -------------"
   ]
  },
  {
   "cell_type": "code",
   "execution_count": 52,
   "metadata": {
    "collapsed": true
   },
   "outputs": [],
   "source": [
    "# Allows you to perform an action a set number of times\n",
    "\n",
    "# Range performs the action 10 times 0 - 9"
   ]
  },
  {
   "cell_type": "code",
   "execution_count": 53,
   "metadata": {},
   "outputs": [
    {
     "name": "stdout",
     "output_type": "stream",
     "text": [
      "0  1  2  3  4  5  6  7  8  9  \n",
      "\n"
     ]
    }
   ],
   "source": [
    "for x in range(0, 10):\n",
    "    print(x , ' ', end=\"\")\n",
    "print('\\n')"
   ]
  },
  {
   "cell_type": "code",
   "execution_count": 54,
   "metadata": {},
   "outputs": [
    {
     "data": {
      "text/plain": [
       "['Juice', 'Tomatoes', 'Potatoes', 'Bananas']"
      ]
     },
     "execution_count": 54,
     "metadata": {},
     "output_type": "execute_result"
    }
   ],
   "source": [
    "# You can use for loops to cycle through a list\n",
    "\n",
    "grocery_list = ['Juice', 'Tomatoes', 'Potatoes', 'Bananas']\n",
    "\n",
    "grocery_list"
   ]
  },
  {
   "cell_type": "code",
   "execution_count": 55,
   "metadata": {},
   "outputs": [
    {
     "name": "stdout",
     "output_type": "stream",
     "text": [
      "Juice\n",
      "Tomatoes\n",
      "Potatoes\n",
      "Bananas\n"
     ]
    }
   ],
   "source": [
    "for y in grocery_list:\n",
    "    print(y)"
   ]
  },
  {
   "cell_type": "code",
   "execution_count": 56,
   "metadata": {},
   "outputs": [
    {
     "name": "stdout",
     "output_type": "stream",
     "text": [
      "2\n",
      "4\n",
      "6\n",
      "8\n",
      "10\n"
     ]
    }
   ],
   "source": [
    "# You can also define a list of numbers to cycle through\n",
    "for x in [2,4,6,8,10]:\n",
    "    print(x)"
   ]
  },
  {
   "cell_type": "code",
   "execution_count": 57,
   "metadata": {},
   "outputs": [
    {
     "data": {
      "text/plain": [
       "[[1, 2, 3], [10, 20, 30], [100, 200, 300]]"
      ]
     },
     "execution_count": 57,
     "metadata": {},
     "output_type": "execute_result"
    }
   ],
   "source": [
    "# You can double up for loops to cycle through lists\n",
    "\n",
    "num_list =[[1,2,3],[10,20,30],[100,200,300]];\n",
    "\n",
    "num_list"
   ]
  },
  {
   "cell_type": "code",
   "execution_count": 58,
   "metadata": {},
   "outputs": [
    {
     "name": "stdout",
     "output_type": "stream",
     "text": [
      "1\n",
      "2\n",
      "3\n",
      "10\n",
      "20\n",
      "30\n",
      "100\n",
      "200\n",
      "300\n"
     ]
    }
   ],
   "source": [
    "for x in range(0,3):\n",
    "    for y in range(0,3):\n",
    "        print(num_list[x][y])"
   ]
  },
  {
   "cell_type": "code",
   "execution_count": 59,
   "metadata": {
    "collapsed": true
   },
   "outputs": [],
   "source": [
    "# WHILE LOOPS -------------\n"
   ]
  },
  {
   "cell_type": "code",
   "execution_count": 60,
   "metadata": {
    "collapsed": true
   },
   "outputs": [],
   "source": [
    "# While loops are used when you don't know ahead of time how many\n",
    "\n",
    "# times you'll have to loop"
   ]
  },
  {
   "cell_type": "code",
   "execution_count": 61,
   "metadata": {},
   "outputs": [
    {
     "data": {
      "text/plain": [
       "8"
      ]
     },
     "execution_count": 61,
     "metadata": {},
     "output_type": "execute_result"
    }
   ],
   "source": [
    "random_num = random.randrange(0,100)\n",
    "random_num"
   ]
  },
  {
   "cell_type": "code",
   "execution_count": 62,
   "metadata": {},
   "outputs": [
    {
     "name": "stdout",
     "output_type": "stream",
     "text": [
      "8\n",
      "93\n",
      "31\n",
      "86\n",
      "32\n",
      "54\n",
      "67\n",
      "5\n",
      "54\n",
      "21\n",
      "58\n",
      "23\n",
      "73\n",
      "8\n",
      "88\n",
      "62\n",
      "43\n",
      "71\n",
      "75\n",
      "17\n",
      "3\n",
      "22\n",
      "57\n",
      "85\n",
      "44\n",
      "55\n",
      "73\n",
      "2\n",
      "89\n",
      "18\n",
      "24\n",
      "83\n",
      "96\n",
      "83\n",
      "52\n",
      "26\n",
      "27\n",
      "28\n",
      "31\n",
      "6\n",
      "42\n",
      "75\n",
      "43\n",
      "74\n",
      "58\n",
      "53\n",
      "56\n",
      "81\n",
      "77\n",
      "37\n",
      "58\n",
      "58\n",
      "28\n",
      "64\n",
      "81\n",
      "85\n",
      "55\n",
      "92\n",
      "18\n",
      "69\n",
      "94\n",
      "61\n",
      "90\n",
      "24\n",
      "98\n",
      "49\n",
      "12\n",
      "80\n",
      "68\n",
      "2\n",
      "67\n",
      "40\n",
      "63\n",
      "53\n",
      "28\n",
      "25\n",
      "64\n",
      "76\n",
      "27\n",
      "91\n",
      "90\n",
      "1\n",
      "76\n",
      "48\n",
      "51\n",
      "87\n",
      "21\n",
      "72\n",
      "89\n",
      "47\n",
      "55\n",
      "18\n",
      "12\n",
      "36\n",
      "31\n",
      "38\n",
      "84\n",
      "11\n",
      "86\n",
      "60\n",
      "58\n",
      "63\n",
      "49\n",
      "96\n",
      "4\n",
      "80\n",
      "14\n",
      "22\n",
      "25\n",
      "62\n",
      "98\n",
      "24\n",
      "16\n",
      "50\n",
      "62\n",
      "9\n",
      "90\n",
      "42\n",
      "87\n",
      "2\n",
      "40\n",
      "32\n",
      "2\n",
      "73\n",
      "45\n",
      "10\n",
      "40\n",
      "60\n",
      "0\n",
      "88\n",
      "51\n",
      "33\n",
      "16\n",
      "69\n",
      "78\n",
      "1\n",
      "26\n",
      "49\n",
      "88\n",
      "62\n",
      "0\n",
      "73\n",
      "74\n",
      "89\n"
     ]
    }
   ],
   "source": [
    "while (random_num != 15):\n",
    "    print(random_num)\n",
    "    random_num = random.randrange(0,100)"
   ]
  },
  {
   "cell_type": "code",
   "execution_count": 63,
   "metadata": {
    "collapsed": true
   },
   "outputs": [],
   "source": [
    "# An iterator for a while loop is defined before the loop"
   ]
  },
  {
   "cell_type": "code",
   "execution_count": 64,
   "metadata": {},
   "outputs": [
    {
     "name": "stdout",
     "output_type": "stream",
     "text": [
      "0\n",
      "2\n",
      "4\n",
      "6\n",
      "8\n"
     ]
    }
   ],
   "source": [
    "i = 0;\n",
    "\n",
    "while (i <= 20):\n",
    "    if(i%2 == 0):\n",
    "        print(i)\n",
    "    elif(i == 9):\n",
    "        # Forces the loop to end all together\n",
    "        break\n",
    "    else:\n",
    "        # Shorthand for i = i + 1\n",
    "        i += 1\n",
    "        # Skips to the next iteration of the loop\n",
    "        continue\n",
    "    i += 1"
   ]
  },
  {
   "cell_type": "code",
   "execution_count": 65,
   "metadata": {},
   "outputs": [],
   "source": [
    "#FUNCTIONS -------------"
   ]
  },
  {
   "cell_type": "code",
   "execution_count": 66,
   "metadata": {
    "collapsed": true
   },
   "outputs": [],
   "source": [
    "# Functions allow you to reuse and write readable code\n",
    "\n",
    "# Type def (define), function name and parameters it receives\n",
    "\n",
    "# return is used to return something to the caller of the function"
   ]
  },
  {
   "cell_type": "code",
   "execution_count": 67,
   "metadata": {},
   "outputs": [
    {
     "name": "stdout",
     "output_type": "stream",
     "text": [
      "5\n"
     ]
    }
   ],
   "source": [
    "def addNumbers(fNum, sNum):\n",
    "    sumNum = fNum + sNum\n",
    "    return sumNum\n",
    "\n",
    "\n",
    "print(addNumbers(1, 4))"
   ]
  },
  {
   "cell_type": "code",
   "execution_count": 68,
   "metadata": {},
   "outputs": [
    {
     "ename": "NameError",
     "evalue": "name 'sNum' is not defined",
     "output_type": "error",
     "traceback": [
      "\u001b[1;31m---------------------------------------------------------------------------\u001b[0m",
      "\u001b[1;31mNameError\u001b[0m                                 Traceback (most recent call last)",
      "\u001b[1;32m<ipython-input-68-35e920170bf6>\u001b[0m in \u001b[0;36m<module>\u001b[1;34m()\u001b[0m\n\u001b[0;32m      3\u001b[0m \u001b[1;31m# It is said to be out of scope\u001b[0m\u001b[1;33m\u001b[0m\u001b[1;33m\u001b[0m\u001b[0m\n\u001b[0;32m      4\u001b[0m \u001b[1;33m\u001b[0m\u001b[0m\n\u001b[1;32m----> 5\u001b[1;33m \u001b[0mprint\u001b[0m\u001b[1;33m(\u001b[0m\u001b[0msNum\u001b[0m\u001b[1;33m)\u001b[0m\u001b[1;33m\u001b[0m\u001b[0m\n\u001b[0m",
      "\u001b[1;31mNameError\u001b[0m: name 'sNum' is not defined"
     ]
    }
   ],
   "source": [
    "# Can't get the value of fNum because it was created in a function\n",
    "\n",
    "# It is said to be out of scope\n",
    "\n",
    "print(sNum)"
   ]
  },
  {
   "cell_type": "code",
   "execution_count": 69,
   "metadata": {},
   "outputs": [
    {
     "name": "stdout",
     "output_type": "stream",
     "text": [
      "-3\n"
     ]
    }
   ],
   "source": [
    "# If you define a variable outside of the function it works every place\n",
    "\n",
    "newNum = 0;\n",
    "\n",
    "def subNumbers(fNum, sNum):\n",
    "    newNum = fNum - sNum\n",
    "    return newNum\n",
    "\n",
    "\n",
    "print(subNumbers(1, 4))"
   ]
  },
  {
   "cell_type": "code",
   "execution_count": 70,
   "metadata": {
    "collapsed": true
   },
   "outputs": [],
   "source": [
    "# USER INPUT -------------"
   ]
  },
  {
   "cell_type": "code",
   "execution_count": 71,
   "metadata": {},
   "outputs": [
    {
     "name": "stdout",
     "output_type": "stream",
     "text": [
      "What is your name?\n"
     ]
    }
   ],
   "source": [
    "print('What is your name?')"
   ]
  },
  {
   "cell_type": "code",
   "execution_count": 72,
   "metadata": {},
   "outputs": [
    {
     "name": "stdout",
     "output_type": "stream",
     "text": [
      "vishal\n"
     ]
    }
   ],
   "source": [
    "# Stores everything typed up until ENTER\n",
    "\n",
    "#name = sys.stdin.readline()\n",
    "\n",
    "#in jupyter notebook use\n",
    "\n",
    "name = input()"
   ]
  },
  {
   "cell_type": "code",
   "execution_count": 73,
   "metadata": {},
   "outputs": [
    {
     "name": "stdout",
     "output_type": "stream",
     "text": [
      "Hello vishal\n"
     ]
    }
   ],
   "source": [
    "print('Hello', name)"
   ]
  },
  {
   "cell_type": "code",
   "execution_count": 74,
   "metadata": {
    "collapsed": true
   },
   "outputs": [],
   "source": [
    "# STRINGS -------------"
   ]
  },
  {
   "cell_type": "code",
   "execution_count": 75,
   "metadata": {},
   "outputs": [
    {
     "data": {
      "text/plain": [
       "\"I'll catch you if you fall - The Floor\""
      ]
     },
     "execution_count": 75,
     "metadata": {},
     "output_type": "execute_result"
    }
   ],
   "source": [
    "# A string is a series of characters surrounded by ' or \"\n",
    "\n",
    "long_string = \"I'll catch you if you fall - The Floor\"\n",
    "long_string"
   ]
  },
  {
   "cell_type": "code",
   "execution_count": 76,
   "metadata": {},
   "outputs": [
    {
     "name": "stdout",
     "output_type": "stream",
     "text": [
      "I'll\n"
     ]
    }
   ],
   "source": [
    "# Retrieve the first 4 characters\n",
    "\n",
    "print(long_string[0:4])"
   ]
  },
  {
   "cell_type": "code",
   "execution_count": 77,
   "metadata": {},
   "outputs": [
    {
     "name": "stdout",
     "output_type": "stream",
     "text": [
      "Floor\n"
     ]
    }
   ],
   "source": [
    "# Get the last 5 characters\n",
    "\n",
    "print(long_string[-5:])"
   ]
  },
  {
   "cell_type": "code",
   "execution_count": 78,
   "metadata": {},
   "outputs": [
    {
     "name": "stdout",
     "output_type": "stream",
     "text": [
      "I'll catch you if you fall - The \n"
     ]
    }
   ],
   "source": [
    "# Everything up to the last 5 characters\n",
    "\n",
    "print(long_string[:-5])"
   ]
  },
  {
   "cell_type": "code",
   "execution_count": 79,
   "metadata": {},
   "outputs": [
    {
     "name": "stdout",
     "output_type": "stream",
     "text": [
      "I'll be there\n"
     ]
    }
   ],
   "source": [
    "# Concatenate part of a string to another\n",
    "\n",
    "print(long_string[:4] + \" be there\")"
   ]
  },
  {
   "cell_type": "code",
   "execution_count": 80,
   "metadata": {},
   "outputs": [
    {
     "name": "stdout",
     "output_type": "stream",
     "text": [
      "X is my favorite letter and my number 1 number is 0.14000\n"
     ]
    }
   ],
   "source": [
    "# String formatting\n",
    "\n",
    "print(\"%c is my %s letter and my number %d number is %.5f\" % ('X', 'favorite', 1, .14))"
   ]
  },
  {
   "cell_type": "code",
   "execution_count": 81,
   "metadata": {},
   "outputs": [
    {
     "name": "stdout",
     "output_type": "stream",
     "text": [
      "I'll catch you if you fall - the floor\n"
     ]
    }
   ],
   "source": [
    "# Capitalizes the first letter\n",
    "\n",
    "print(long_string.capitalize())"
   ]
  },
  {
   "cell_type": "code",
   "execution_count": 82,
   "metadata": {},
   "outputs": [
    {
     "name": "stdout",
     "output_type": "stream",
     "text": [
      "33\n"
     ]
    }
   ],
   "source": [
    "# Returns the index of the start of the string\n",
    "\n",
    "# case sensitive\n",
    "\n",
    "print(long_string.find(\"Floor\"))"
   ]
  },
  {
   "cell_type": "code",
   "execution_count": 83,
   "metadata": {},
   "outputs": [
    {
     "name": "stdout",
     "output_type": "stream",
     "text": [
      "False\n"
     ]
    }
   ],
   "source": [
    "# Returns true if all characters are letters ' isn't a letter\n",
    "\n",
    "print(long_string.isalpha())"
   ]
  },
  {
   "cell_type": "code",
   "execution_count": 84,
   "metadata": {},
   "outputs": [
    {
     "name": "stdout",
     "output_type": "stream",
     "text": [
      "False\n"
     ]
    }
   ],
   "source": [
    "# Returns true if all characters are numbers\n",
    "\n",
    "print(long_string.isalnum())\n"
   ]
  },
  {
   "cell_type": "code",
   "execution_count": 85,
   "metadata": {},
   "outputs": [
    {
     "name": "stdout",
     "output_type": "stream",
     "text": [
      "38\n"
     ]
    }
   ],
   "source": [
    "# Returns the string length\n",
    "\n",
    "print(len(long_string))"
   ]
  },
  {
   "cell_type": "code",
   "execution_count": 86,
   "metadata": {},
   "outputs": [
    {
     "name": "stdout",
     "output_type": "stream",
     "text": [
      "I'll catch you if you fall - The Ground\n"
     ]
    }
   ],
   "source": [
    "# Replace the first word with the second (Add a number to replace more)\n",
    "\n",
    "print(long_string.replace(\"Floor\", \"Ground\"))"
   ]
  },
  {
   "cell_type": "code",
   "execution_count": 87,
   "metadata": {},
   "outputs": [
    {
     "name": "stdout",
     "output_type": "stream",
     "text": [
      "I'll catch you if you fall - The Floor\n"
     ]
    }
   ],
   "source": [
    "# Remove white space from front and end\n",
    "\n",
    "print(long_string.strip())"
   ]
  },
  {
   "cell_type": "code",
   "execution_count": 88,
   "metadata": {},
   "outputs": [
    {
     "name": "stdout",
     "output_type": "stream",
     "text": [
      "[\"I'll\", 'catch', 'you', 'if', 'you', 'fall', '-', 'The', 'Floor']\n"
     ]
    }
   ],
   "source": [
    "# Split a string into a list based on the delimiter you provide\n",
    "\n",
    "quote_list = long_string.split(\" \")\n",
    "\n",
    "print(quote_list)"
   ]
  },
  {
   "cell_type": "code",
   "execution_count": 89,
   "metadata": {
    "collapsed": true
   },
   "outputs": [],
   "source": [
    "# FILE I/O -------------"
   ]
  },
  {
   "cell_type": "code",
   "execution_count": 90,
   "metadata": {
    "collapsed": true
   },
   "outputs": [],
   "source": [
    "# Overwrite or create a file for writing\n",
    "\n",
    "test_file = open(\"test.txt\", \"wb\")"
   ]
  },
  {
   "cell_type": "code",
   "execution_count": 91,
   "metadata": {},
   "outputs": [
    {
     "name": "stdout",
     "output_type": "stream",
     "text": [
      "wb\n"
     ]
    }
   ],
   "source": [
    "\n",
    "# Get the file mode used\n",
    "\n",
    "print(test_file.mode)"
   ]
  },
  {
   "cell_type": "code",
   "execution_count": 92,
   "metadata": {},
   "outputs": [
    {
     "name": "stdout",
     "output_type": "stream",
     "text": [
      "test.txt\n"
     ]
    }
   ],
   "source": [
    "# Get the files name\n",
    "\n",
    "print(test_file.name)"
   ]
  },
  {
   "cell_type": "code",
   "execution_count": 93,
   "metadata": {},
   "outputs": [
    {
     "data": {
      "text/plain": [
       "21"
      ]
     },
     "execution_count": 93,
     "metadata": {},
     "output_type": "execute_result"
    }
   ],
   "source": [
    "# Write text to a file with a newline\n",
    "\n",
    "test_file.write(bytes(\"Write me to the file\\n\", 'UTF-8'))"
   ]
  },
  {
   "cell_type": "code",
   "execution_count": 94,
   "metadata": {
    "collapsed": true
   },
   "outputs": [],
   "source": [
    "# Close the file\n",
    "\n",
    "test_file.close()"
   ]
  },
  {
   "cell_type": "code",
   "execution_count": 95,
   "metadata": {
    "collapsed": true
   },
   "outputs": [],
   "source": [
    "\n",
    "# Opens a file for reading and writing\n",
    "\n",
    "test_file = open(\"test.txt\", \"r+\")"
   ]
  },
  {
   "cell_type": "code",
   "execution_count": 96,
   "metadata": {
    "collapsed": true
   },
   "outputs": [],
   "source": [
    "# Read text from the file\n",
    "\n",
    "text_in_file = test_file.read()"
   ]
  },
  {
   "cell_type": "code",
   "execution_count": 97,
   "metadata": {},
   "outputs": [
    {
     "name": "stdout",
     "output_type": "stream",
     "text": [
      "Write me to the file\n",
      "\n"
     ]
    }
   ],
   "source": [
    "print(text_in_file)"
   ]
  },
  {
   "cell_type": "code",
   "execution_count": 98,
   "metadata": {},
   "outputs": [],
   "source": [
    "# Close the file\n",
    "\n",
    "test_file.close()"
   ]
  },
  {
   "cell_type": "code",
   "execution_count": 99,
   "metadata": {
    "collapsed": true
   },
   "outputs": [],
   "source": [
    "# if you will forget to close the above open file the .remove() will give and error \n",
    "# saying the file cannot be removed as it is busy with another process\n",
    "\n"
   ]
  },
  {
   "cell_type": "code",
   "execution_count": 100,
   "metadata": {},
   "outputs": [],
   "source": [
    "# Delete the file\n",
    "os.remove(\"test.txt\")"
   ]
  },
  {
   "cell_type": "code",
   "execution_count": 101,
   "metadata": {
    "collapsed": true
   },
   "outputs": [],
   "source": [
    "# CLASSES AND OBJECTS -------------\n"
   ]
  },
  {
   "cell_type": "code",
   "execution_count": 102,
   "metadata": {
    "collapsed": true
   },
   "outputs": [],
   "source": [
    "# The concept of OOP allows us to model real world things using code\n",
    "\n",
    "# Every object has attributes (color, height, weight) which are object variables\n",
    "\n",
    "# Every object has abilities (walk, talk, eat) which are object functions"
   ]
  },
  {
   "cell_type": "code",
   "execution_count": 103,
   "metadata": {},
   "outputs": [],
   "source": [
    "class Animal:\n",
    "    __name = None       # None signifies the lack of a value\n",
    "    __height = None     # You can make a variable private by starting it with __\n",
    "    __weight = None\n",
    "    __sound = None\n",
    "    \n",
    "    # The constructor is called to set up or initialize an object\n",
    "    # self allows an object to refer to itself inside of the class\n",
    "    \n",
    "    def __init__(self, name, height, weight, sound):\n",
    "        self.__name = name\n",
    "        self.__height = height\n",
    "        self.__weight = weight\n",
    "        self.__sound = sound\n",
    "        \n",
    "        \n",
    "    \n",
    "    def set_name(self, name):\n",
    "        self.__name = name\n",
    "        \n",
    "    \n",
    "    def set_height(self, height):\n",
    "        self.__height = height\n",
    "        \n",
    "        \n",
    "    def set_weight(self, weight):\n",
    "        self.__weight = weight\n",
    "        \n",
    "        \n",
    "    def set_sound(self, sound):\n",
    "        self.__sound = sound\n",
    "        \n",
    "        \n",
    "    def get_name(self):\n",
    "        return self.__name\n",
    "    \n",
    "    \n",
    "    def get_height(self):\n",
    "        return str(self.__height)\n",
    "    \n",
    "    \n",
    "    def get_weight(self):\n",
    "        return str(self.__weight)\n",
    "    \n",
    "    \n",
    "    def get_sound(self):\n",
    "        return self.__sound\n",
    "    \n",
    "    \n",
    "    def get_type(self):\n",
    "        print(\"Animal\")\n",
    "        \n",
    "        \n",
    "    def toString(self):\n",
    "        return \"{} is {} cm tall and {} kilograms and says {}\".format(self.__name, self.__height, self.__weight, self.__sound)\n",
    "    "
   ]
  },
  {
   "cell_type": "code",
   "execution_count": 104,
   "metadata": {},
   "outputs": [],
   "source": [
    "# How to create a Animal object\n",
    "cat = Animal('Whiskers', 33, 10, 'Meow')"
   ]
  },
  {
   "cell_type": "code",
   "execution_count": 105,
   "metadata": {},
   "outputs": [
    {
     "name": "stdout",
     "output_type": "stream",
     "text": [
      "Whiskers is 33 cm tall and 10 kilograms and says Meow\n"
     ]
    }
   ],
   "source": [
    "print(cat.toString())"
   ]
  },
  {
   "cell_type": "code",
   "execution_count": 106,
   "metadata": {},
   "outputs": [
    {
     "ename": "AttributeError",
     "evalue": "'Animal' object has no attribute '__name'",
     "output_type": "error",
     "traceback": [
      "\u001b[1;31m---------------------------------------------------------------------------\u001b[0m",
      "\u001b[1;31mAttributeError\u001b[0m                            Traceback (most recent call last)",
      "\u001b[1;32m<ipython-input-106-26931c93c7d0>\u001b[0m in \u001b[0;36m<module>\u001b[1;34m()\u001b[0m\n\u001b[0;32m      1\u001b[0m \u001b[1;31m# You can't access this value directly because it is private\u001b[0m\u001b[1;33m\u001b[0m\u001b[1;33m\u001b[0m\u001b[0m\n\u001b[0;32m      2\u001b[0m \u001b[1;33m\u001b[0m\u001b[0m\n\u001b[1;32m----> 3\u001b[1;33m \u001b[0mprint\u001b[0m\u001b[1;33m(\u001b[0m\u001b[0mcat\u001b[0m\u001b[1;33m.\u001b[0m\u001b[0m__name\u001b[0m\u001b[1;33m)\u001b[0m\u001b[1;33m\u001b[0m\u001b[0m\n\u001b[0m\u001b[0;32m      4\u001b[0m \u001b[1;33m\u001b[0m\u001b[0m\n\u001b[0;32m      5\u001b[0m \u001b[1;31m#you will receive an error as you have tried to access an unaccessible variable\u001b[0m\u001b[1;33m\u001b[0m\u001b[1;33m\u001b[0m\u001b[0m\n",
      "\u001b[1;31mAttributeError\u001b[0m: 'Animal' object has no attribute '__name'"
     ]
    }
   ],
   "source": [
    "# You can't access this value directly because it is private\n",
    "\n",
    "print(cat.__name)\n",
    "\n",
    "#you will receive an error as you have tried to access an unaccessible variable"
   ]
  },
  {
   "cell_type": "code",
   "execution_count": 107,
   "metadata": {
    "collapsed": true
   },
   "outputs": [],
   "source": [
    "# INHERITANCE -------------"
   ]
  },
  {
   "cell_type": "code",
   "execution_count": 108,
   "metadata": {
    "collapsed": true
   },
   "outputs": [],
   "source": [
    "# You can inherit all of the variables and methods from another class"
   ]
  },
  {
   "cell_type": "code",
   "execution_count": 109,
   "metadata": {},
   "outputs": [],
   "source": [
    "class Dog(Animal):\n",
    "    __owner = None\n",
    "    \n",
    "    \n",
    "    def __init__(self, name, height, weight, sound, owner):\n",
    "        self.__owner = owner\n",
    "        self.__animal_type = None\n",
    "        \n",
    "        # How to call the super class constructor\n",
    "        super(Dog, self).__init__(name, height, weight, sound)\n",
    "    \n",
    "    def set_owner(self, owner):\n",
    "        self.__owner = owner\n",
    "    \n",
    "    \n",
    "    def get_owner(self):\n",
    "        return self.__owner\n",
    "    \n",
    "    \n",
    "    def get_type(self):\n",
    "        print (\"Dog\")\n",
    "        \n",
    "        # We can overwrite functions in the super class\n",
    "    \n",
    "    def toString(self):\n",
    "        return \"{} is {} cm tall and {} kilograms and says {}. His owner is {}\".format(self.get_name(), self.get_height(), self.get_weight(), self.get_sound(), self.__owner)\n",
    "\n",
    "    \n",
    "    # You don't have to require attributes to be sent\n",
    "    # This allows for method overloading\n",
    "    def multiple_sounds(self, how_many=None):\n",
    "        if how_many is None:\n",
    "            print(self.get_sound)\n",
    "        else:\n",
    "            print(self.get_sound() * how_many)"
   ]
  },
  {
   "cell_type": "code",
   "execution_count": 110,
   "metadata": {},
   "outputs": [],
   "source": [
    "# Making a dog object\n",
    "\n",
    "spot = Dog(\"Spot\", 53, 27, \"Ruff\", \"Vishal\")"
   ]
  },
  {
   "cell_type": "code",
   "execution_count": 111,
   "metadata": {},
   "outputs": [
    {
     "name": "stdout",
     "output_type": "stream",
     "text": [
      "Spot is 53 cm tall and 27 kilograms and says Ruff. His owner is Vishal\n"
     ]
    }
   ],
   "source": [
    "print(spot.toString())"
   ]
  },
  {
   "cell_type": "code",
   "execution_count": 112,
   "metadata": {
    "collapsed": true
   },
   "outputs": [],
   "source": [
    "# Polymorphism allows use to refer to objects as their super class\n",
    "\n",
    "# and the correct functions are called automatically"
   ]
  },
  {
   "cell_type": "code",
   "execution_count": 113,
   "metadata": {
    "collapsed": true
   },
   "outputs": [],
   "source": [
    "class AnimalTesting:\n",
    "    def get_type(self, animal):\n",
    "        animal.get_type()"
   ]
  },
  {
   "cell_type": "code",
   "execution_count": 114,
   "metadata": {},
   "outputs": [
    {
     "name": "stdout",
     "output_type": "stream",
     "text": [
      "Animal\n",
      "Dog\n",
      "RuffRuffRuffRuff\n"
     ]
    }
   ],
   "source": [
    "test_animals = AnimalTesting()\n",
    "\n",
    "\n",
    "test_animals.get_type(cat)\n",
    "\n",
    "test_animals.get_type(spot)\n",
    "\n",
    "spot.multiple_sounds(4)"
   ]
  },
  {
   "cell_type": "code",
   "execution_count": null,
   "metadata": {
    "collapsed": true
   },
   "outputs": [],
   "source": []
  }
 ],
 "metadata": {
  "kernelspec": {
   "display_name": "Python 3",
   "language": "python",
   "name": "python3"
  },
  "language_info": {
   "codemirror_mode": {
    "name": "ipython",
    "version": 3
   },
   "file_extension": ".py",
   "mimetype": "text/x-python",
   "name": "python",
   "nbconvert_exporter": "python",
   "pygments_lexer": "ipython3",
   "version": "3.6.3"
  }
 },
 "nbformat": 4,
 "nbformat_minor": 2
}
